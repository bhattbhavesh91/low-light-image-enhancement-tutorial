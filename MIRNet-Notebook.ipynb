{
  "nbformat": 4,
  "nbformat_minor": 0,
  "metadata": {
    "colab": {
      "name": "MIRNet-Notebook.ipynb",
      "provenance": [],
      "collapsed_sections": []
    },
    "kernelspec": {
      "name": "python3",
      "display_name": "Python 3"
    },
    "accelerator": "GPU"
  },
  "cells": [
    {
      "cell_type": "markdown",
      "metadata": {
        "id": "oDZZ4i_JELjH"
      },
      "source": [
        "This notebook shows the TensorFlow Lite model conversion and inference processes for the **MIRNet** model as proposed by [Learning Enriched Features for Real Image Restoration and Enhancement](https://arxiv.org/pdf/2003.06792v2.pdf). This model is capable of enhancing low-light images upto a great extent. \n",
        "\n",
        "<p align=\"center\">\n",
        "<img src=\"https://github.com/soumik12345/MIRNet/raw/master/assets/lol_results.gif\"</img><br>\n",
        "<small><a href=\"https://github.com/soumik12345/MIRNet/blob/master/assets/lol_results.gif\">Source</a></small>\n",
        "</p>\n",
        "\n",
        "Model training code and pre-trained weights are provided by **Soumik** through [this repository](https://github.com/soumik12345/MIRNet/). \n",
        "\n",
        "Access **Sayak's** notebooks  [here](https://github.com/sayakpaul/MIRNet-TFLite/). "
      ]
    },
    {
      "cell_type": "markdown",
      "metadata": {
        "id": "eByGmySpM7yT"
      },
      "source": [
        "## Initial setup"
      ]
    },
    {
      "cell_type": "code",
      "metadata": {
        "id": "PZ55uzoQ7imJ"
      },
      "source": [
        "!git clone https://github.com/soumik12345/MIRNet\n",
        "%cd MIRNet"
      ],
      "execution_count": null,
      "outputs": []
    },
    {
      "cell_type": "code",
      "metadata": {
        "id": "6ISLJXZV7sgZ"
      },
      "source": [
        "!pip install -q wandb"
      ],
      "execution_count": null,
      "outputs": []
    },
    {
      "cell_type": "code",
      "metadata": {
        "id": "DD9LjkFT7uLY"
      },
      "source": [
        "from glob import glob\n",
        "from PIL import Image\n",
        "from matplotlib import pyplot as plt\n",
        "from mirnet.inference import Inferer\n",
        "from mirnet.utils import download_dataset, plot_result\n",
        "\n",
        "import tensorflow as tf\n",
        "import numpy as np\n",
        "print(tf.__version__)"
      ],
      "execution_count": null,
      "outputs": []
    },
    {
      "cell_type": "markdown",
      "metadata": {
        "id": "Qwk12GxGNAfs"
      },
      "source": [
        "## Download dataset and pre-trained weights"
      ]
    },
    {
      "cell_type": "code",
      "metadata": {
        "id": "V6OFBidE8fno"
      },
      "source": [
        "inferer = Inferer()\n",
        "inferer.download_weights('1sUlRD5MTRKKGxtqyYDpTv7T3jOW6aVAL')\n",
        "inferer.build_model(\n",
        "    num_rrg=3, num_mrb=2, channels=64,\n",
        "    weights_path='low_light_weights_best.h5'\n",
        ")\n",
        "inferer.model.summary()"
      ],
      "execution_count": null,
      "outputs": []
    },
    {
      "cell_type": "code",
      "metadata": {
        "id": "m-plql6dW1sO"
      },
      "source": [
        "inferer.model.save('mirnet')"
      ],
      "execution_count": null,
      "outputs": []
    },
    {
      "cell_type": "code",
      "metadata": {
        "id": "1vWWuzxheEKm"
      },
      "source": [
        "IMAGE_LOC = '/content/image3.jpg'"
      ],
      "execution_count": null,
      "outputs": []
    },
    {
      "cell_type": "code",
      "metadata": {
        "id": "3r5eAVDleCYI"
      },
      "source": [
        "original_image, output_image = inferer.infer(IMAGE_LOC)\r\n",
        "plot_result(original_image, output_image)"
      ],
      "execution_count": null,
      "outputs": []
    },
    {
      "cell_type": "code",
      "metadata": {
        "id": "0z1qnclXn3uD"
      },
      "source": [
        ""
      ],
      "execution_count": null,
      "outputs": []
    }
  ]
}